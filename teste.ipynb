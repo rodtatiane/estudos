{
 "cells": [
  {
   "cell_type": "code",
   "execution_count": 2,
   "id": "b1c9a2ee-d2fd-4ba0-9789-956613400642",
   "metadata": {},
   "outputs": [
    {
     "name": "stdout",
     "output_type": "stream",
     "text": [
      "6\n"
     ]
    }
   ],
   "source": [
    "vendas = [1200, 300, 800, 1500, 1900, 2750, 400, 20, 23, 70, 98, 80, 1100, 999, 900, 880, 870, 50, 1111, 120, 300, 450, 800]\n",
    "meta = 1000\n",
    "qtd_meta = 0\n",
    "\n",
    "for venda in vendas:\n",
    "    if venda >=meta:\n",
    "        qtd_meta += 1\n",
    "print (qtd_meta)"
   ]
  },
  {
   "cell_type": "code",
   "execution_count": null,
   "id": "7a2ac764-aefa-4510-a04d-a2f7e23c7f0e",
   "metadata": {},
   "outputs": [],
   "source": []
  }
 ],
 "metadata": {
  "kernelspec": {
   "display_name": "Python 3 (ipykernel)",
   "language": "python",
   "name": "python3"
  },
  "language_info": {
   "codemirror_mode": {
    "name": "ipython",
    "version": 3
   },
   "file_extension": ".py",
   "mimetype": "text/x-python",
   "name": "python",
   "nbconvert_exporter": "python",
   "pygments_lexer": "ipython3",
   "version": "3.12.4"
  }
 },
 "nbformat": 4,
 "nbformat_minor": 5
}
