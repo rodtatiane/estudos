{
  "nbformat": 4,
  "nbformat_minor": 0,
  "metadata": {
    "colab": {
      "provenance": [],
      "include_colab_link": true
    },
    "kernelspec": {
      "name": "python3",
      "display_name": "Python 3"
    },
    "language_info": {
      "name": "python"
    }
  },
  "cells": [
    {
      "cell_type": "markdown",
      "metadata": {
        "id": "view-in-github",
        "colab_type": "text"
      },
      "source": [
        "<a href=\"https://colab.research.google.com/github/rodtatiane/estudos/blob/main/python_para_dados.ipynb\" target=\"_parent\"><img src=\"https://colab.research.google.com/assets/colab-badge.svg\" alt=\"Open In Colab\"/></a>"
      ]
    },
    {
      "cell_type": "markdown",
      "source": [
        "# **INTRODUÇÃO À PYTHON PARA DADOS**"
      ],
      "metadata": {
        "id": "tdouzA9kbTEa"
      }
    },
    {
      "cell_type": "markdown",
      "source": [
        "**VARIÁVEIS E TIPOS DE DADOS**\n",
        "\n",
        "Variáveis são como caixas onde guardamos informações, e cada informação tem um tipo de dado (como número, texto, lista...).\n",
        "Vamos ver como declarar variáveis e como diferentes tipos de dados funcionam, usando exemplos da série \"The Big Bang Theory\"."
      ],
      "metadata": {
        "id": "fzjnEAZuBF8Q"
      }
    },
    {
      "cell_type": "markdown",
      "source": [
        "**String (str)** <p>\n",
        "Explicação: Strings são sequências de caracteres que representam texto. Em Python, strings são definidas entre aspas (\" ou ').\n",
        "Elas são usadas para armazenar palavras, frases ou qualquer tipo de dado textual."
      ],
      "metadata": {
        "id": "DJ7D_csaDZrv"
      }
    },
    {
      "cell_type": "code",
      "source": [
        "serie = \"The Big Bang Theory\" # nome da série"
      ],
      "metadata": {
        "id": "NHjKQBEsBFT4"
      },
      "execution_count": null,
      "outputs": []
    },
    {
      "cell_type": "markdown",
      "source": [
        "**Inteiro (int)** <p>\n",
        "Explicação: Inteiros são números sem casas decimais. Eles podem ser usados para representar contagens, índices ou qualquer valor numérico que não precisa de precisão decimal."
      ],
      "metadata": {
        "id": "z0Fk1bK-Idak"
      }
    },
    {
      "cell_type": "code",
      "source": [
        "temporadas = 12  # número de temporadas\n",
        "episodios_por_temporada = 24  # número médio de episódios por temporada"
      ],
      "metadata": {
        "id": "9R8aMfOKBi6F"
      },
      "execution_count": null,
      "outputs": []
    },
    {
      "cell_type": "markdown",
      "source": [
        "**Float (números decimais)** <p>\n",
        "Explicação: Floats são números que incluem casas decimais.\n",
        "Eles são usados quando precisamos de maior precisão, como para avaliações, medições ou valores financeiros."
      ],
      "metadata": {
        "id": "jfisXcCCIn7w"
      }
    },
    {
      "cell_type": "code",
      "source": [
        "nota_imdb = 8.1  # valiação da série no IMDb"
      ],
      "metadata": {
        "id": "uEDVPINtB4F_"
      },
      "execution_count": null,
      "outputs": []
    },
    {
      "cell_type": "markdown",
      "source": [
        "**Booleano (bool)** <p>\n",
        "Explicação: Booleanos são variáveis que podem ter apenas dois valores: True (verdadeiro) ou False (falso).\n",
        "Eles são usados para representar estados binários, como \"ligado/desligado\" ou \"verdadeiro/falso\"."
      ],
      "metadata": {
        "id": "rmVQwsrVItIr"
      }
    },
    {
      "cell_type": "code",
      "source": [
        "otima_serie = True  # a série é ótima? (True = sim)"
      ],
      "metadata": {
        "id": "JIQPRE4fCCZT"
      },
      "execution_count": null,
      "outputs": []
    },
    {
      "cell_type": "markdown",
      "source": [
        "**Lista (list)** <p>\n",
        "Explicação: Listas são coleções ordenadas de elementos que podem ser de qualquer tipo.<p>\n",
        "Em Python, listas são definidas entre colchetes ( [ ] ). Você pode adicionar, remover e acessar elementos dentro de uma lista.\n"
      ],
      "metadata": {
        "id": "0oRBTzSuLLfY"
      }
    },
    {
      "cell_type": "code",
      "source": [
        "# lista\n",
        "personagens = [\n",
        "    \"Sheldon\",\n",
        "    \"Leonard\",\n",
        "    \"Penny\",\n",
        "    \"Amy\",\n",
        "    \"Raj\",\n",
        "    \"Bernadette\",\n",
        "    \"Howard\"\n",
        "]"
      ],
      "metadata": {
        "id": "_lFnGUy_LKo4"
      },
      "execution_count": null,
      "outputs": []
    },
    {
      "cell_type": "markdown",
      "source": [
        "**Dicionário (dict)**<p>\n",
        "Explicação: Dicionários são coleções de pares de chave e valor, onde cada chave é única. <p>\n",
        "Em Python, dicionários são definidos entre chaves ( { } ). Eles são usados para mapear uma chave a um valor, como um nome a uma idade."
      ],
      "metadata": {
        "id": "GEXNnaCPLiwd"
      }
    },
    {
      "cell_type": "code",
      "source": [
        "# dicionário\n",
        "sheldon = {\n",
        "    \"nome\": \"Sheldon Cooper\",\n",
        "    \"idade\": 30,\n",
        "    \"profissao\": \"Físico Teórico\",\n",
        "    \"q_i\": 187\n",
        "}"
      ],
      "metadata": {
        "id": "7sLqKNuhLn9a"
      },
      "execution_count": null,
      "outputs": []
    },
    {
      "cell_type": "markdown",
      "source": [
        "**Tupla (tuple)**<p>\n",
        "Explicação: Tuplas são coleções ordenadas e imutáveis de elementos.<p>\n",
        "Ao contrário das listas, os valores dentro de uma tupla não podem ser alterados após a sua criação.<p>\n",
        "Tuplas são definidas entre parênteses ( ( ) ).\n"
      ],
      "metadata": {
        "id": "vwGwOu7TMALd"
      }
    },
    {
      "cell_type": "code",
      "source": [
        "# tupla\n",
        "curiosidades = (\n",
        "    \"Bazinga!\",\n",
        "    \"Elevador quebrado\",\n",
        "    \"Contrato de colegas de quarto\"\n",
        ")"
      ],
      "metadata": {
        "id": "1f2fuFeoMG3U"
      },
      "execution_count": null,
      "outputs": []
    },
    {
      "cell_type": "markdown",
      "source": [
        "**Conjunto (set)**<p>\n",
        "Explicação: Conjuntos são coleções não ordenadas de elementos únicos. Em Python, conjuntos são definidos entre chaves ( { } ).<p>\n",
        "Eles são úteis quando você precisa garantir que não haja elementos duplicados."
      ],
      "metadata": {
        "id": "zQqaabZQMcYR"
      }
    },
    {
      "cell_type": "code",
      "source": [
        "# conjunto (set)\n",
        "profissao_personagens = {\n",
        "    \"Físico\",\n",
        "    \"Engenheiro\",\n",
        "    \"Cientista\",\n",
        "    \"Atriz\",\n",
        "    \"Neurobiologista\"\n",
        "}"
      ],
      "metadata": {
        "id": "qFZ4jBGBMlNL"
      },
      "execution_count": null,
      "outputs": []
    },
    {
      "cell_type": "markdown",
      "source": [
        "**ESTRUTURA DE DADOS**\n",
        "\n",
        "Aqui vamos explorar as estruturas de dados, que são formas de organizar e armazenar dados.<p>\n",
        "Vamos trabalhar com listas, que guardam múltiplos valores em ordem; e dicionários, que guardam pares de chave e valor."
      ],
      "metadata": {
        "id": "1Xx4j-mpNF0K"
      }
    },
    {
      "cell_type": "markdown",
      "source": [
        "**.append()**<p>\n",
        "O método append é usado para adicionar um novo elemento ao final da lista.<p> Neste caso, Haward é adicionado à lista de personagens."
      ],
      "metadata": {
        "id": "d0EXuZ-GPIk6"
      }
    },
    {
      "cell_type": "code",
      "source": [
        "# lista dos personagens principais com append\n",
        "personagens = [\n",
        "    \"Sheldon\",\n",
        "    \"Leonard\",\n",
        "    \"Penny\",\n",
        "    \"Amy\",\n",
        "    \"Raj\",\n",
        "    \"Bernadette\"\n",
        "]\n",
        "personagens.append(\"Howard\") # Adicionando um personagem à lista\n",
        "print(personagens)"
      ],
      "metadata": {
        "id": "F2IDG3AHNMOd",
        "colab": {
          "base_uri": "https://localhost:8080/"
        },
        "outputId": "8cc40934-1f3a-40b6-fd77-8759c484f7f6"
      },
      "execution_count": null,
      "outputs": [
        {
          "output_type": "stream",
          "name": "stdout",
          "text": [
            "['Sheldon', 'Leonard', 'Penny', 'Amy', 'Raj', 'Bernadette', 'Howard']\n"
          ]
        }
      ]
    },
    {
      "cell_type": "markdown",
      "source": [
        "**.remove()**<p>\n",
        "O método remove é usado para deletar um  elemento da lista.<p>\n",
        "Neste caso, Raj é deletado da lista de personagens."
      ],
      "metadata": {
        "id": "L1WaIWOkPSCc"
      }
    },
    {
      "cell_type": "code",
      "source": [
        "# lista dos personagens principais com remove\n",
        "personagens = [\n",
        "    \"Sheldon\",\n",
        "    \"Leonard\",\n",
        "    \"Penny\",\n",
        "    \"Amy\",\n",
        "    \"Raj\",\n",
        "    \"Bernadette\"\n",
        "]\n",
        "personagens.remove(\"Raj\") # Removendo um personagem da lista\n",
        "print(personagens)"
      ],
      "metadata": {
        "id": "nh4sOOyaPV6n",
        "colab": {
          "base_uri": "https://localhost:8080/"
        },
        "outputId": "1025a347-1c3a-4843-d8cc-dc3b38d55b8f"
      },
      "execution_count": null,
      "outputs": [
        {
          "output_type": "stream",
          "name": "stdout",
          "text": [
            "['Sheldon', 'Leonard', 'Penny', 'Amy', 'Bernadette']\n"
          ]
        }
      ]
    },
    {
      "cell_type": "markdown",
      "source": [
        "**acessar valor associado a chave**<p>\n",
        "A linha print(sheldon[\"nome\"]) acessa o valor associado à chave \"nome\" e imprime \"Sheldon Cooper\"."
      ],
      "metadata": {
        "id": "e_GdKzkVPY0r"
      }
    },
    {
      "cell_type": "code",
      "source": [
        "# dicionário com acesso ao valor de uma chave específica\n",
        "sheldon = {\n",
        "    \"nome\": \"Sheldon Cooper\",\n",
        "    \"idade\": 30,\n",
        "    \"profissao\": \"Físico Teórico\"\n",
        "}\n",
        "print(sheldon[\"nome\"]) # Acessando o valor de uma chave específica"
      ],
      "metadata": {
        "id": "O5QmjiFpP5kW",
        "colab": {
          "base_uri": "https://localhost:8080/"
        },
        "outputId": "82b3b099-184a-4864-af15-579cb4c644c2"
      },
      "execution_count": null,
      "outputs": [
        {
          "output_type": "stream",
          "name": "stdout",
          "text": [
            "Sheldon Cooper\n"
          ]
        }
      ]
    },
    {
      "cell_type": "markdown",
      "source": [
        "**CONDICIONAIS E LOOPS**<p>\n",
        "Nesta parte, vamos aprender como tomar decisões e repetir ações no código usando condicionais e loops.<p>\n",
        "Condicionais (if-else) permitem executar código apenas se uma condição for verdadeira. Loops (for e while) permitem repetir uma ação várias vezes."
      ],
      "metadata": {
        "id": "cLif5wS4QKux"
      }
    },
    {
      "cell_type": "markdown",
      "source": [
        "**Condicional (if)**<p>\n",
        "Objetivo: Verificar se o número de temporadas é maior que 15.<p>\n",
        "Como funciona: Se a variável 'temporadas' for maior que 15, o código dentro do bloco if será executado e a mensagem será impressa. Caso contrário, o código dentro do bloco if será ignorado.<p>\n",
        "Neste exemplo: A condição temporadas > 15 é falsa, pois o valor de temporadas é 12. Portanto, a mensagem \"The Big Bang Theory é uma série muito longa com 12 temporadas!\" não será impressa."
      ],
      "metadata": {
        "id": "JZt-ExgRRyjD"
      }
    },
    {
      "cell_type": "markdown",
      "source": [
        "**Condicional (elif)**<p>\n",
        "Objetivo: Verificar se o número de temporadas é maior que 10, mas não maior que 15.<p>\n",
        "Como funciona: O bloco elif é uma parte do controle de fluxo que ocorre após uma condição if inicial. Se a condição if não for satisfeita, o código verifica a condição elif. No caso, se temporadas for maior que 10 e não maior que 15, a mensagem será impressa.<p>\n",
        "Neste exemplo: A condição temporadas > 10 é verdadeira para o valor 12 de temporadas. Assim, a mensagem \"The Big Bang Theory é uma série longa com 12 temporadas!\" será exibida.<p>"
      ],
      "metadata": {
        "id": "0TIpT516TZfc"
      }
    },
    {
      "cell_type": "markdown",
      "source": [
        "**Condicional (else)**<p>\n",
        "Objetivo: Capturar casos em que nenhuma das condições anteriores (if ou elif) for verdadeira.<p>\n",
        "Como funciona: O bloco else é executado quando todas as condições anteriores (if e elif) são falsas. Se nenhuma das condições no if e elif for satisfeita, o código dentro do bloco else será executado.<p>\n",
        "Neste Exemplo: O bloco else será executado somente se a condição if (por exemplo, temporadas > 15) e a condição elif (por exemplo, temporadas > 10) forem falsas. No caso em questão, o bloco elif é verdadeiro porque temporadas é 12, que é maior que 10. Portanto, a mensagem \"The Big Bang Theory é uma série longa com 12 temporadas!\" será impressa e o bloco else não será executado."
      ],
      "metadata": {
        "id": "22F6M3ejWpqd"
      }
    },
    {
      "cell_type": "code",
      "source": [
        "# if\n",
        "if temporadas > 15:\n",
        "    print(f\"{serie} é uma série muito longa com {temporadas} temporadas!\")\n",
        "    # elif\n",
        "elif temporadas > 10:\n",
        "    print(f\"{serie} é uma série longa com {temporadas} temporadas!\")\n",
        "    # else\n",
        "else:\n",
        "    print(f\"{serie} é uma série curta com apenas {temporadas} temporadas.\")"
      ],
      "metadata": {
        "id": "vk12rpSjQsiM",
        "colab": {
          "base_uri": "https://localhost:8080/"
        },
        "outputId": "2d381f7f-cd15-412a-c02d-2dd39952d146"
      },
      "execution_count": null,
      "outputs": [
        {
          "output_type": "stream",
          "name": "stdout",
          "text": [
            "The Big Bang Theory é uma série longa com 12 temporadas!\n"
          ]
        }
      ]
    },
    {
      "cell_type": "markdown",
      "source": [
        "**Loop (for)**<p>\n",
        "Objetivo: Iterar sobre uma sequência (como uma lista, tupla, string, ou intervalo de números) e executar um bloco de código para cada item na sequência.<p>\n",
        "Como funciona: O loop for percorre cada elemento da lista personagens, atribuindo o valor atual à variável personagem e executando o bloco de código (neste caso, imprimindo o nome do personagem).<p>\n",
        "Quando usar: Use for quando você sabe de antemão quantas vezes deseja iterar, como quando está iterando sobre uma coleção de itens ou um intervalo específico de números."
      ],
      "metadata": {
        "id": "qxQzLc3lXXHz"
      }
    },
    {
      "cell_type": "code",
      "source": [
        "# loop for\n",
        "for personagem in personagens:\n",
        "    print(personagem)"
      ],
      "metadata": {
        "id": "NuwpqaBUXoEk",
        "colab": {
          "base_uri": "https://localhost:8080/"
        },
        "outputId": "213bcd30-761e-4509-a8c4-c2b170f7d11f"
      },
      "execution_count": null,
      "outputs": [
        {
          "output_type": "stream",
          "name": "stdout",
          "text": [
            "Sheldon\n",
            "Leonard\n",
            "Penny\n",
            "Amy\n",
            "Bernadette\n"
          ]
        }
      ]
    },
    {
      "cell_type": "markdown",
      "source": [
        "**Loop (while)**<p>\n",
        "Condição: O loop continua executando enquanto episodios_assistidos for menor que episodios_por_temporada.<p>\n",
        "Ação: A cada iteração, o número de episódios assistidos é incrementado em 1, e o episódio correspondente é impresso.<p>\n",
        "Neste exemplo, o loop while é usado para simular a contagem dos episódios que Sheldon assiste. A cada iteração do loop, um episódio é contado até que Sheldon tenha assistido todos os episódios da primeira temporada."
      ],
      "metadata": {
        "id": "lLcgn0fFX2-T"
      }
    },
    {
      "cell_type": "code",
      "source": [
        "# loop while para contar quantos episódios Sheldon assistiu\n",
        "episodios_assistidos = 0    # Começa com 0 episódios assistidos\n",
        "\n",
        "print(f\"{serie} - Temporada 1\")\n",
        "print(\"Sheldon está maratonando os episódios...\")\n",
        "\n",
        "while episodios_assistidos < episodios_por_temporada:\n",
        "    episodios_assistidos += 1 # Sheldon assiste a mais um episódio\n",
        "    print(f\"Episódio {episodios_assistidos} assistido.\")\n",
        "\n",
        "print(f\"\\nSheldon terminou de assistir todos os {episodios_por_temporada} episódios da temporada 1!\")"
      ],
      "metadata": {
        "id": "h0R3qbPfZnvV",
        "colab": {
          "base_uri": "https://localhost:8080/"
        },
        "outputId": "c81034fa-d08c-431b-a11f-7021002189be"
      },
      "execution_count": null,
      "outputs": [
        {
          "output_type": "stream",
          "name": "stdout",
          "text": [
            "The Big Bang Theory - Temporada 1\n",
            "Sheldon está maratonando os episódios...\n",
            "Episódio 1 assistido.\n",
            "Episódio 2 assistido.\n",
            "Episódio 3 assistido.\n",
            "Episódio 4 assistido.\n",
            "Episódio 5 assistido.\n",
            "Episódio 6 assistido.\n",
            "Episódio 7 assistido.\n",
            "Episódio 8 assistido.\n",
            "Episódio 9 assistido.\n",
            "Episódio 10 assistido.\n",
            "Episódio 11 assistido.\n",
            "Episódio 12 assistido.\n",
            "Episódio 13 assistido.\n",
            "Episódio 14 assistido.\n",
            "Episódio 15 assistido.\n",
            "Episódio 16 assistido.\n",
            "Episódio 17 assistido.\n",
            "Episódio 18 assistido.\n",
            "Episódio 19 assistido.\n",
            "Episódio 20 assistido.\n",
            "Episódio 21 assistido.\n",
            "Episódio 22 assistido.\n",
            "Episódio 23 assistido.\n",
            "Episódio 24 assistido.\n",
            "\n",
            "Sheldon terminou de assistir todos os 24 episódios da temporada 1!\n"
          ]
        }
      ]
    },
    {
      "cell_type": "markdown",
      "source": [
        "**MÉTODOS E FUNÇÕES**<p>\n",
        "Métodos são funções que estão associadas a um objeto ou classe específicos e operam nos dados desse objeto.<p>\n",
        "Enquanto funções podem existir de forma independente, métodos fazem parte de uma classe ou objeto e geralmente manipulam ou interagem com os atributos desse objeto."
      ],
      "metadata": {
        "id": "c8nF-seFaB8j"
      }
    },
    {
      "cell_type": "markdown",
      "source": [
        "**Método: lower**<p>\n",
        "Este método transforma todas as letras da string serie em minúsculas."
      ],
      "metadata": {
        "id": "dtVLVDtXaSXO"
      }
    },
    {
      "cell_type": "code",
      "source": [
        "# usando o método lower para transformar o nome da série em letras minúsculas\n",
        "serie_minuscula = serie.lower()\n",
        "print(serie_minuscula)"
      ],
      "metadata": {
        "id": "1nO-_Oo4aHTY",
        "colab": {
          "base_uri": "https://localhost:8080/"
        },
        "outputId": "a8e8f90c-b14e-453a-8bef-32f79978c90f"
      },
      "execution_count": null,
      "outputs": [
        {
          "output_type": "stream",
          "name": "stdout",
          "text": [
            "the big bang theory\n"
          ]
        }
      ]
    },
    {
      "cell_type": "markdown",
      "source": [
        "**Método: upper**<p>\n",
        "Este método transforma todas as letras da string serie em maiúsculas."
      ],
      "metadata": {
        "id": "kxomvoetaf-b"
      }
    },
    {
      "cell_type": "code",
      "source": [
        "# usando o método upper para transformar o nome da série em letras maiúsculas\n",
        "serie_maiuscula = serie.upper()\n",
        "print(serie_maiuscula)"
      ],
      "metadata": {
        "id": "0XaZL57BaiOD",
        "colab": {
          "base_uri": "https://localhost:8080/"
        },
        "outputId": "bb04d3db-1645-49ac-8073-98290f72bffc"
      },
      "execution_count": null,
      "outputs": [
        {
          "output_type": "stream",
          "name": "stdout",
          "text": [
            "THE BIG BANG THEORY\n"
          ]
        }
      ]
    },
    {
      "cell_type": "markdown",
      "source": [
        "**Função**<p>\n",
        "Objetivo: A função recebe dois parâmetros: temporadas e episodios_por_temporada.<p>\n",
        "Cálculo: Multiplica o número de temporadas pelo número médio de episódios por temporada para calcular o total de episódios.<p>\n",
        "A função é chamada usando os valores das variáveis temporadas e episodios_por_temporada que foram definidos anteriormente.<p>\n",
        "O resultado é armazenado na variável total."
      ],
      "metadata": {
        "id": "WBHlwR_Uask0"
      }
    },
    {
      "cell_type": "markdown",
      "source": [
        "**O Que é def?**?<p>\n",
        "Definição de Função: def é uma palavra-chave que indica o início da definição de uma função.<p>Quando você usa def, está dizendo ao Python que você está prestes a criar uma nova função."
      ],
      "metadata": {
        "id": "ZPgiUHPNbKl8"
      }
    },
    {
      "cell_type": "code",
      "source": [
        "# função para calcular o número total de episódios\n",
        "def calcular_total_episodios(temporadas, episodios_por_temporada):\n",
        "    total_episodios = temporadas * episodios_por_temporada\n",
        "    return total_episodios\n",
        "\n",
        "# usando a função com os valores já definidos\n",
        "total = calcular_total_episodios(temporadas, episodios_por_temporada)\n",
        "print(f\"O total de episódios de {serie} é {total}.\")"
      ],
      "metadata": {
        "id": "UnBSm6Hwa1Y8",
        "colab": {
          "base_uri": "https://localhost:8080/"
        },
        "outputId": "7e532b0d-568e-45ae-a6ab-89c9e073f3ed"
      },
      "execution_count": null,
      "outputs": [
        {
          "output_type": "stream",
          "name": "stdout",
          "text": [
            "O total de episódios de The Big Bang Theory é 288.\n"
          ]
        }
      ]
    },
    {
      "cell_type": "markdown",
      "source": [
        "## **EXERCÍCIOS**"
      ],
      "metadata": {
        "id": "TS1eiUCVb0Iy"
      }
    },
    {
      "cell_type": "markdown",
      "source": [
        "**Exercício 1: Variáveis e Tipos de Dados**<p>\n",
        "Objetivo: Trabalhar com diferentes tipos de variáveis e exibir informações.<p>\n",
        "\n",
        "*Instruções*:\n",
        "1. Crie variáveis para armazenar informações sobre uma série fictícia:\n",
        "nome_serie (string)<p>\n",
        "ano_lancamento (int)<p>\n",
        "temporadas (int)<p>\n",
        "avaliacao (float)<p>\n",
        "em_andamento (booleano)<p>\n",
        "2. Crie uma variável de lista para armazenar os nomes dos principais personagens da série.<p>\n",
        "\n",
        "3. Imprima uma mensagem formatada que exiba todas essas informações."
      ],
      "metadata": {
        "id": "QvruRvlNb-P7"
      }
    },
    {
      "cell_type": "code",
      "source": [
        "# Crie uma variável chamada nome_serie e armazene o nome de uma série fictícia como uma string\n",
        "nome_serie = \"série fictícia\"\n",
        "\n",
        "# Crie uma variável chamada ano_lancamento e armazene o ano de lançamento da série como um número inteiro\n",
        "ano_lancamento = 2010\n",
        "\n",
        "# Crie uma variável chamada temporadas e armazene o número de temporadas da série como um número inteiro\n",
        "temporadas = 10\n",
        "\n",
        "# Crie uma variável chamada avaliacao e armazene a avaliação da série como um número de ponto flutuante\n",
        "avaliacao = 8.8\n",
        "\n",
        "# Crie uma variável chamada em_anda e armazene se a série ainda está em andamento como um valor booleano (True ou False)\n",
        "em_andamento = True\n",
        "\n",
        "# Crie uma variável chamada personagens que seja uma lista contendo os nomes dos principais personagens da série\n",
        "personagens = [\n",
        "    \"monica\",\n",
        "    \"chandler\",\n",
        "    \"gus\",\n",
        "]\n",
        "\n",
        "# Use print para exibir uma mensagem formatada que inclua todas essas variáveis e suas informações\n",
        "print (nome_serie, ano_lancamento, temporadas, avaliacao, em_andamento )\n",
        "print (personagens)\n"
      ],
      "metadata": {
        "id": "Gbz6pTGzb63L",
        "colab": {
          "base_uri": "https://localhost:8080/"
        },
        "outputId": "803f1854-c220-4a72-c53f-85dc7414ac70"
      },
      "execution_count": 7,
      "outputs": [
        {
          "output_type": "stream",
          "name": "stdout",
          "text": [
            "série fictícia 2010 10 8.8 True\n",
            "['monica', 'chandler', 'gus']\n"
          ]
        }
      ]
    },
    {
      "cell_type": "markdown",
      "source": [
        "**Exercício 2: Condicionais**<p>\n",
        "Objetivo: Utilizar condicionais para verificar e responder a diferentes condições.<p>\n",
        "\n",
        "*Instruções:*<p>\n",
        "1. Crie uma função chamada verificar_serie que receba a avaliação e o número de temporadas da série como parâmetros.<p>\n",
        "2. A função deve:<p>\n",
        "Imprimir uma mensagem se a avaliação for maior que 8.0.<p>\n",
        "Imprimir uma mensagem se a série tiver mais de 10 temporadas.<p>\n",
        "Imprimir uma mensagem padrão se nenhuma das condições acima for verdadeira.<p>"
      ],
      "metadata": {
        "id": "0AJgdQv1eULA"
      }
    },
    {
      "cell_type": "code",
      "source": [
        "# Crie uma função chamada verificar_serie que receba dois parâmetros:\n",
        "# - avaliacao: a avaliação da série como um número de ponto flutuante\n",
        "# - temporadas: o número de temporadas da série como um número inteiro\n",
        "\n",
        "def verificar_serie (avaliacao, temporadas):\n",
        "    if avaliacao > 9.0:\n",
        "      print(\"boa avaliacao\")\n",
        "    if temporadas >10:\n",
        "      print(f\"A serie tem {temporadas} temporadas.\")\n",
        "    else:\n",
        "      print(\"não foi verdadeiro\")\n",
        "\n",
        "verificar_serie(9.2,5)\n",
        "\n",
        "# Dentro da função, use uma estrutura condicional para verificar se a avaliação é maior que 8.0\n",
        "\n",
        "# Se a condição for verdadeira, imprima uma mensagem informando que a série tem uma boa avaliação\n",
        "\n",
        "# Use outra estrutura condicional para verificar se o número de temporadas é maior que 10\n",
        "\n",
        "# Se a condição for verdadeira, imprima uma mensagem informando que a série tem muitas temporadas\n",
        "\n",
        "# Use um bloco else para imprimir uma mensagem padrão caso nenhuma das condições acima seja verdadeira\n",
        "\n",
        "# Chame a função verificar_serie com valores de exemplo para teste\n"
      ],
      "metadata": {
        "id": "XbMRbGIxexAK",
        "colab": {
          "base_uri": "https://localhost:8080/"
        },
        "outputId": "5801c4e4-fb09-4f1a-ca45-a4eee43c9f1d"
      },
      "execution_count": 11,
      "outputs": [
        {
          "output_type": "stream",
          "name": "stdout",
          "text": [
            "boa avaliacao\n",
            "não foi verdadeiro\n"
          ]
        }
      ]
    },
    {
      "cell_type": "markdown",
      "source": [
        "**Exercício 3: Loop for e while**<p>\n",
        "Objetivo: Praticar o uso de loops para iterar sobre dados e realizar ações repetitivas.<p>\n",
        "\n",
        "*Instruções:*<p>\n",
        "1. Use um loop **for** para imprimir cada personagem da lista de personagens.<p>\n",
        "2. Use um loop **while** para contar quantos episódios de uma temporada foram assistidos, simulando o processo de assistir aos episódios até o total definido.<p>\n",
        "*Dicas:*<p>\n",
        "No loop for, use a variável personagem para acessar cada item na lista personagens.<p>\n",
        "No loop while, incremente a variável episodios_assistidos em cada iteração e imprima o número do episódio assistido até que o total de episódios seja alcançado.<p>"
      ],
      "metadata": {
        "id": "G2mBAT1Le7Ms"
      }
    },
    {
      "cell_type": "code",
      "source": [
        "# Crie uma lista chamada personagens contendo os nomes dos personagens\n",
        "personagens ={\n",
        "    \"gus\",\n",
        "    \"michel\",\n",
        "    \"camilo\",\n",
        "    \"muriele\",\n",
        "}\n",
        "\n",
        "for personagem in personagens:\n",
        "    print(personagem)\n",
        "\n",
        "episodios_assistidos = 0\n",
        "episodios_por_temporada = 10\n",
        "\n",
        "# loop while para contar quantos episódios Sheldon assistiu\n",
        "# episodios_assistidos = 0    # Começa com 0 episódios assistidos\n",
        "\n",
        "#print(f\"{serie} - Temporada 1\")\n",
        "#print(\"Sheldon está maratonando os episódios...\")\n",
        "\n",
        "while episodios_assistidos < episodios_por_temporada:\n",
        "    episodios_assistidos += 1 # Sheldon assiste a mais um episódio\n",
        "    print(f\"Episódio {episodios_assistidos} assistido.\")\n",
        "\n",
        "print(\"Todos os episodios foram assistidos\")\n",
        "\n",
        "\n",
        "# Use um loop for para iterar sobre cada personagem na lista\n",
        "\n",
        "# Dentro do loop, use a função print para exibir o nome de cada personagem\n",
        "\n",
        "# Defina uma variável chamada episodios_assistidos e inicialize com 0\n",
        "\n",
        "# Defina uma variável chamada episodios_por_temporada com o total de episódios na temporada\n",
        "\n",
        "# Use um loop while para simular o processo de assistir episódios\n",
        "\n",
        "# O loop deve continuar enquanto episodios_assistidos for menor que episodios_por_temporada\n",
        "\n",
        "# Dentro do loop, incremente episodios_assistidos em 1 e imprima o número do episódio assistido\n",
        "\n",
        "# Após o loop, imprima uma mensagem informando que todos os episódios foram assistidos\n"
      ],
      "metadata": {
        "id": "5zhk7nj0fEIJ",
        "colab": {
          "base_uri": "https://localhost:8080/"
        },
        "outputId": "12f9dfc4-0a55-4b41-ff53-6e109ce6bbff"
      },
      "execution_count": 14,
      "outputs": [
        {
          "output_type": "stream",
          "name": "stdout",
          "text": [
            "gus\n",
            "camilo\n",
            "michel\n",
            "muriele\n",
            "Episódio 1 assistido.\n",
            "Episódio 2 assistido.\n",
            "Episódio 3 assistido.\n",
            "Episódio 4 assistido.\n",
            "Episódio 5 assistido.\n",
            "Episódio 6 assistido.\n",
            "Episódio 7 assistido.\n",
            "Episódio 8 assistido.\n",
            "Episódio 9 assistido.\n",
            "Episódio 10 assistido.\n",
            "Todos os episodios foram assistidos\n"
          ]
        }
      ]
    },
    {
      "cell_type": "markdown",
      "source": [
        "**Exercício 4: Funções e Métodos**<p>\n",
        "Objetivo: Definir e utilizar funções para realizar cálculos e manipular dados.<p>\n",
        "\n",
        "*Instruções:*<p>\n",
        "1. Crie uma função chamada calcular_total_episodios que recebe dois parâmetros: temporadas e episodios_por_temporada.<p>\n",
        "A função deve calcular o total de episódios multiplicando os dois parâmetros e retornar o resultado.<p>\n",
        "2. Após definir a função, chame-a passando os valores das variáveis temporadas e episodios_por_temporada para obter o total de episódios.<p>\n",
        "Armazene o resultado em uma variável chamada total e imprima uma mensagem que mostre o total de episódios."
      ],
      "metadata": {
        "id": "Fb3wienxgQzC"
      }
    },
    {
      "cell_type": "code",
      "source": [
        "# Função para calcular o total de episódios\n",
        "\n",
        "\n",
        "def calcular_total_episodios(temporadas, episodios_por_temporada):\n",
        "    total_episodios = temporadas * episodios_por_temporada\n",
        "    return total_episodios\n",
        "\n",
        "# usando a função com os valores já definidos\n",
        "total = calcular_total_episodios(temporadas, episodios_por_temporada)\n",
        "print(f\"O total de episódios é {total}.\")\n",
        "\n",
        "# Defina a função calcular_total_episodios com parâmetros temporadas e episodios_por_temporada\n",
        "\n",
        "# A função deve retornar o produto desses dois parâmetros\n",
        "\n",
        "# Use a função para calcular o total de episódios\n",
        "\n",
        "# Chame a função passando as variáveis temporadas e episodios_por_temporada\n",
        "\n",
        "# Armazene o resultado em uma variável chamada total\n",
        "\n",
        "# Imprima uma mensagem que exiba o total de episódios calculado\n"
      ],
      "metadata": {
        "id": "k4KULG_hgZm9"
      },
      "execution_count": null,
      "outputs": []
    },
    {
      "cell_type": "markdown",
      "source": [
        "**Exercício 5: Manipulação de Dados**<p>\n",
        "Objetivo: Praticar a manipulação de listas e dicionários, e usar loops para processar dados.<p>\n",
        "\n",
        "*Instruções:*<p>\n",
        "1. Criar uma Lista de Personagens e seus detalhes:<p>\n",
        "Crie uma lista chamada detalhes_personagens onde cada item é um dicionário.<p>\n",
        "Cada dicionário deve conter informações sobre um personagem, com chaves como \"nome\", \"idade\" e \"profissao\".<p>\n",
        "\n",
        "2. Adicionar um Novo Personagem:<p>\n",
        "Adicione um novo dicionário à lista com as informações de um novo personagem.<p>\n",
        "Escolha um nome, idade e profissão diferentes dos que já estão na lista.<p>\n",
        "\n",
        "3. Usar um Loop for:<p>\n",
        "Use um loop for para percorrer a lista detalhes_personagens.<p>\n",
        "Para cada dicionário na lista, imprima o nome do personagem, a idade e a profissão no formato:<p>\n",
        "\"Nome: [nome], Idade: [idade], Profissão: [profissao]\"."
      ],
      "metadata": {
        "id": "t9puZjDakYKD"
      }
    },
    {
      "cell_type": "code",
      "source": [
        "# Lista de dicionários com detalhes dos personagens\n",
        "\n",
        "# Crie uma lista chamada detalhes_personagens\n",
        "\n",
        "# Cada item da lista deve ser um dicionário contendo informações sobre o personagem\n",
        "\n",
        "# Adicione um novo personagem à lista\n",
        "\n",
        "# Crie um dicionário com nome, idade e profissão, e adicione à lista detalhes_personagens\n",
        "\n",
        "# Loop for para imprimir detalhes dos personagens\n",
        "\n",
        "# Use um loop for para percorrer cada dicionário na lista detalhes_personagens\n",
        "\n",
        "# Para cada dicionário, imprima as informações do personagem no formato:\n",
        "\n",
        "# \"Nome: [nome], Idade: [idade], Profissão: [profissao]\"\n"
      ],
      "metadata": {
        "id": "tGGoLIWbkzdl"
      },
      "execution_count": null,
      "outputs": []
    },
    {
      "cell_type": "markdown",
      "source": [
        "♥ Obrigada por participarem da aula ♥\n",
        "\n",
        "Qualquer dúvida sobre os exercícios ou algo a mais, estarei a disposição. <p>\n",
        "Milene Martins - AI Engineer"
      ],
      "metadata": {
        "id": "BybsWrNbpnJi"
      }
    }
  ]
}